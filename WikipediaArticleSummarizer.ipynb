{
 "cells": [
  {
   "cell_type": "code",
   "execution_count": null,
   "id": "4e87c944",
   "metadata": {},
   "outputs": [],
   "source": [
    "# Importing libraries\n",
    "## Selenium\n",
    "from selenium import webdriver\n",
    "from selenium.webdriver.common.by import By\n",
    "from selenium.webdriver.firefox.service import Service\n",
    "from selenium.webdriver.common.keys import Keys\n",
    "from selenium.webdriver.common.action_chains import ActionChains\n",
    "from webdriver_manager.firefox import GeckoDriverManager\n",
    "\n",
    "##Natural Language Processing \n",
    "import nltk\n",
    "\n",
    "##tkinter for GUI\n",
    "import tkinter\n",
    "from tkinter import *\n",
    "\n",
    "##Scraping website\n",
    "import requests\n",
    "from bs4 import BeautifulSoup"
   ]
  },
  {
   "cell_type": "code",
   "execution_count": 2,
   "id": "d27369ee",
   "metadata": {},
   "outputs": [],
   "source": [
    "def onClick():\n",
    "    textInput = searchInput.get()\n",
    "    if textInput.startswith(\"https://en.wikipedia.org/wiki/\"):\n",
    "        #to handle links bro\n",
    "        # this line extracts the article name from the link\n",
    "        article_name = textInput.replace(\"https://en.wikipedia.org/wiki/\", \"\").replace(\"_\", \" \")\n",
    "        req = requests.get(textInput)\n",
    "    else:\n",
    "        article_name = textInput.replace(' ','_')\n",
    "        req = requests.get(\"https://www.wikipedia.org/wiki/\"+article_name) \n",
    "        \n",
    "    soup = BeautifulSoup(req.content, \"html.parser\")\n",
    "    content_text = soup.find('div', {'id': 'mw-content-text'})\n",
    "    paragraphs = content_text.find_all('p')\n",
    "    summary = ' '.join([p.text for p in paragraphs[:3]])  # i've adjusted the slicing as needed\n",
    "    summary_text.delete('1.0', END)  # clearing the text widget\n",
    "    summary_text.insert(END, summary)  # inserting the summary\n"
   ]
  },
  {
   "cell_type": "code",
   "execution_count": 3,
   "id": "aee0ec26",
   "metadata": {},
   "outputs": [],
   "source": [
    "#Implementing GUI\n",
    "win = tkinter.Tk()\n",
    "win.title('Wikipedia Article Summarizer')\n",
    "win.geometry(\"1080x1920\")\n",
    "win.configure(bg='#7FCDF4')\n",
    "l1 = Label(win, text=\"Search keyword: \", font='bold 9')\n",
    "l1.configure(bg='#7FCDF4')\n",
    "l1.place(relx=.3, rely=.1, anchor=CENTER)\n",
    "searchInput = Entry(win, width=30)\n",
    "searchInput.place(relx=0.575, rely=.1, anchor=CENTER)\n",
    "summary_text = Text(win, height=40, width=120)\n",
    "summary_text.place(relx=0.5, rely=0.5, anchor=CENTER)\n",
    "b1 = tkinter.Button(win, text=\"Search\", command=onClick, width=15)\n",
    "b1.place(relx=0.5, rely=.15, anchor=CENTER)\n",
    "\n",
    "win.mainloop()\n"
   ]
  },
  {
   "cell_type": "code",
   "execution_count": null,
   "id": "3ee28082",
   "metadata": {},
   "outputs": [],
   "source": []
  }
 ],
 "metadata": {
  "kernelspec": {
   "display_name": "Python 3 (ipykernel)",
   "language": "python",
   "name": "python3"
  },
  "language_info": {
   "codemirror_mode": {
    "name": "ipython",
    "version": 3
   },
   "file_extension": ".py",
   "mimetype": "text/x-python",
   "name": "python",
   "nbconvert_exporter": "python",
   "pygments_lexer": "ipython3",
   "version": "3.10.11"
  }
 },
 "nbformat": 4,
 "nbformat_minor": 5
}
